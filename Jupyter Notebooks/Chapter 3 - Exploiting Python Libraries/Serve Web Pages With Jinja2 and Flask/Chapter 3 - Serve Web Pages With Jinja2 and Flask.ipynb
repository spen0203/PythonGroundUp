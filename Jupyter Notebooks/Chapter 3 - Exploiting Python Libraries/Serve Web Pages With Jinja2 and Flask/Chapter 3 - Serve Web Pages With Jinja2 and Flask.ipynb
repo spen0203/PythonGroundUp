{
 "cells": [
  {
   "cell_type": "markdown",
   "metadata": {},
   "source": [
    "# Chapter 3 - Serve Web Pages With Jinja2 and Flask\n",
    "\n",
    "<p> Flask is a web micro framework used to implement with servers. It responds to structured queries but is limited on large scalability</p>\n"
   ]
  },
  {
   "cell_type": "markdown",
   "metadata": {},
   "source": [
    "### Python module/package imports for this chapter\n",
    "\n"
   ]
  },
  {
   "cell_type": "code",
   "execution_count": 1,
   "metadata": {},
   "outputs": [],
   "source": [
    "import os, sys, collections, re, json, io, base64\n",
    "\n",
    "\n",
    "import numpy as np\n",
    "\n",
    "import matplotlib\n",
    "import matplotlib.pyplot as pp\n",
    "import matplotlib.animation as anim\n",
    "from mpl_toolkits.basemap import Basemap\n",
    "\n",
    "%matplotlib inline\n",
    "\n",
    "\n",
    "import requests\n",
    "import bs4      # BeautifulSoup 4\n",
    "\n",
    "\n",
    "import IPython.display\n",
    "import PIL, PIL.Image, PIL.ImageOps, PIL.ImageEnhance  # Python Imaging Library - now \"pillow\""
   ]
  },
  {
   "cell_type": "markdown",
   "metadata": {},
   "source": [
    "**March 2020 update**:\n",
    "\n",
    "* The `mars.nasa.gov` portal has been restyled, so it now looks different than in the video. Furthermore, the website now uses JavaScript to populate the raw-image query pages dynamically, so that we cannot load those pages and find image URLs. However, the same information is available in JSON files from `api.nasa.gov`, with GET URLs similar to\n",
    "\n",
    "        https://api.nasa.gov/mars-photos/api/v1/rovers/curiosity/photos?sol=1460&camera=FHAZ&api_key=DEMO_KEY\n",
    "\n",
    "    The code below is updated accordingly. Instead of `BeautifulSoup`, it uses `json` to parse the response. Note that the `DEMO_KEY` is limited to 30 requests per day. Those will be sufficient for what we do below, but you can generate your own key, with much larger limits, at https://api.nasa.gov.\n",
    "\n",
    "    The code will still attempt to use a local cache of json files and images, if available.\n",
    "    \n",
    "    \n",
    "* On Windows, connect to `localhost` instead of `0.0.0.0`. If that does not work with the Edge browser, you can try Firefox."
   ]
  },
  {
   "cell_type": "code",
   "execution_count": 10,
   "metadata": {},
   "outputs": [
    {
     "name": "stdout",
     "output_type": "stream",
     "text": [
      "Overwriting stereo.py\n"
     ]
    }
   ],
   "source": [
    "%%file stereo.py \n",
    "\n",
    "import os, sys, re, io, base64, json\n",
    "import requests, bs4\n",
    "import PIL, PIL.Image, PIL.ImageOps, PIL.ImageEnhance\n",
    "\n",
    "def getday(day):\n",
    "    \"\"\"Load the webpage collecting Curiosity Front Hazard Cam\n",
    "    images for Sol day, and yield a sequence of URLs for (left,right) pairs.\n",
    "    Before loading, see if the webpage is available in a local cache.\"\"\"\n",
    "    \n",
    "    cached = os.path.join('images', str(day) + '.json')\n",
    "    try:\n",
    "        text = open(cached,'r').read()\n",
    "    except FileNotFoundError:\n",
    "        daypage = requests.get('https://api.nasa.gov/mars-photos/api/v1/rovers/curiosity/photos',\n",
    "                               params={'sol': day, 'camera': 'FHAZ',\n",
    "                                       'api_key': 'CeYgq3YlAUSUXMRoZJxPogOpj4a8bvmJEDv3m6G6'}) #DEMO_KEY'})\n",
    "        text = daypage.text\n",
    "    \n",
    "    # we parse the returned JSON, which has format\n",
    "    # {'photos': [{'id': XXXX, 'img_src': URL, ...},\n",
    "    #             ...]\n",
    "    #  ...}\n",
    "    # to isolate the image URLs\n",
    "    \n",
    "    try:\n",
    "        images = json.loads(text)\n",
    "        srcs = [photo['img_src'] for photo in images['photos']]\n",
    "    except:\n",
    "        srcs = []\n",
    "    \n",
    "    print(\"Found {} images for day {}...\".format(len(srcs),day))\n",
    "\n",
    "    # iterate over nonoverlapping pairs in the list:\n",
    "    # 0,2,4,... and 1,3,5,...\n",
    "    for one, two in zip(srcs[::2],srcs[1::2]):\n",
    "        # we may get the left/right in the wrong order, so check the URLs\n",
    "        left, right = (one, two) if 'FLB' in one else (two, one)\n",
    "        \n",
    "        yield left, right\n",
    "\n",
    "def getimage(url):\n",
    "    \"\"\"Load a Curiosity image from url, resize it and dewarp it.\n",
    "    However, first see if the image is available in a local cache.\"\"\"\n",
    "    \n",
    "    cached = os.path.join('images',os.path.basename(url))\n",
    "    try:\n",
    "        content = open(cached,'rb').read()\n",
    "    except FileNotFoundError:\n",
    "        content = requests.get(url).content\n",
    "    \n",
    "    img = PIL.Image.open(io.BytesIO(content))\n",
    "    \n",
    "    resized = img.resize((400,400))\n",
    "    dewarped = img.transform((400,300),\n",
    "                             PIL.Image.QUAD,data=(0,0,100,400,300,400,400,0),\n",
    "                             resample=0,fill=1)\n",
    "    \n",
    "    return dewarped\n",
    "\n",
    "def blend(left,right):\n",
    "    \"\"\"Colorize and blend left and right Curiosity images.\"\"\"\n",
    "    \n",
    "    blend = PIL.Image.blend(PIL.ImageOps.colorize(left,(0,0,0),(255,0,0)),\n",
    "                            PIL.ImageOps.colorize(right,(0,0,0),(0,255,255)),0.5)\n",
    "    \n",
    "    enhanced = PIL.ImageEnhance.Brightness(blend)\n",
    "    \n",
    "    return enhanced.enhance(1.75)"
   ]
  },
  {
   "cell_type": "markdown",
   "metadata": {},
   "source": [
    "\n",
    "\n",
    "\n",
    "<h2>Bare flask server: </h2>\n",
    "<p> Flask cant be run from jupiter notebooks, so we save to a file then run it from the terminal </p>"
   ]
  },
  {
   "cell_type": "code",
   "execution_count": 11,
   "metadata": {},
   "outputs": [
    {
     "name": "stdout",
     "output_type": "stream",
     "text": [
      "Overwriting server.py\n"
     ]
    }
   ],
   "source": [
    "%%file server.py \n",
    "#saves to a local file server.py\n",
    "\n",
    "import flask\n",
    "\n",
    "app = flask.Flask(__name__) #create flask server object named after file being ran\n",
    "\n",
    "#URL to reply to\n",
    "@app.route('/') \n",
    "def hello_world():\n",
    "    return flask.Response('<html><body><p>Hello there, world!</p></body></html>')\n",
    "\n",
    "app.run(host='localhost')"
   ]
  },
  {
   "cell_type": "markdown",
   "metadata": {},
   "source": [
    "### Modifying bare server to offer steroscopic Mars images\n",
    "\n",
    "<p> Flask uses jinja2 to provide html templates </p>"
   ]
  },
  {
   "cell_type": "code",
   "execution_count": 12,
   "metadata": {},
   "outputs": [
    {
     "name": "stdout",
     "output_type": "stream",
     "text": [
      "Overwriting server.py\n"
     ]
    }
   ],
   "source": [
    "%%file server.py \n",
    "#saves to a local file server.py\n",
    "\n",
    "import flask, jinja2, io, base64\n",
    "import stereo\n",
    "\n",
    "app = flask.Flask(__name__) #create flask server object named after file being ran\n",
    "\n",
    "#jinja2 template, {{___}} is a variable place holder\n",
    "template = jinja2.Template(\"\"\"\n",
    "<html>\n",
    "    <body>\n",
    "    <img src=\"data:image/png;base64, {{imgdata}}\"/>      \n",
    "    </body>\n",
    "</html>\n",
    "\n",
    "\"\"\")\n",
    "\n",
    "#Takrd an image and incodes it into base64 ascii text so it can be passed as a response\n",
    "def makeimgdata(img):\n",
    "    buffer = io.BytesIO()\n",
    "    img.save(buffer,format=\"PNG\")\n",
    "    return nase64.b64encode(buffer.getvalue()).decode('ascii')\n",
    "\n",
    "#URL to reply to (http://localhost:5000/1036)\n",
    "@app.route('/<sol>') #Route <sol> argument is linked to the function sol\n",
    "def getsol(sol):\n",
    "    left,right = stereo.getday(sol).__next__() #get the left image than iterate to right image\n",
    "    \n",
    "    img = stereo.blend(stereo.getimage(left),stereo.getimage(right)) #blend two images into one\n",
    "    \n",
    "    html = template.render(imgdata=makeimgdata(img)) #Render the template and input var for imgdata(needs to be converted to text)\n",
    "    \n",
    "    return flask.Response(html)\n",
    "\n",
    "\n",
    "#URL to reply to (http://localhost:5000/ )\n",
    "@app.route('/') \n",
    "def hello_world(sol):\n",
    "    return flask.Response('<html><body><p>Hello there, world!</p></body></html>')\n",
    "\n",
    "app.run(host='localhost')"
   ]
  },
  {
   "cell_type": "code",
   "execution_count": null,
   "metadata": {},
   "outputs": [],
   "source": []
  },
  {
   "cell_type": "code",
   "execution_count": null,
   "metadata": {},
   "outputs": [],
   "source": []
  }
 ],
 "metadata": {
  "kernelspec": {
   "display_name": "Python 3",
   "language": "python",
   "name": "python3"
  },
  "language_info": {
   "codemirror_mode": {
    "name": "ipython",
    "version": 3
   },
   "file_extension": ".py",
   "mimetype": "text/x-python",
   "name": "python",
   "nbconvert_exporter": "python",
   "pygments_lexer": "ipython3",
   "version": "3.7.6"
  }
 },
 "nbformat": 4,
 "nbformat_minor": 4
}
