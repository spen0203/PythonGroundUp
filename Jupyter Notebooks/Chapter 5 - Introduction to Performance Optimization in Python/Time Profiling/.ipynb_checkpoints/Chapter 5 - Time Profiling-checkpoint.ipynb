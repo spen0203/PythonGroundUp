{
 "cells": [
  {
   "cell_type": "markdown",
   "metadata": {},
   "source": [
    "# Chapter 5 - Time Profiling\n",
    "<h2> Learning Objectives: </h3>\n",
    "<li>Profiling Python Functions</li>\n",
    "<li>Profiling Functions Line by Line </li>\n",
    "<li>Replacing for loops with numpy array operations </li>\n",
    "<li> Other packages and approa </li>\n",
    "\n",
    "\n",
    "\n",
    "### Python module/package imports for this chapter"
   ]
  },
  {
   "cell_type": "code",
   "execution_count": 1,
   "metadata": {
    "collapsed": true
   },
   "outputs": [],
   "source": [
    "import sys, math, collections, itertools, multiprocessing, gzip, dis"
   ]
  },
  {
   "cell_type": "code",
   "execution_count": 2,
   "metadata": {
    "collapsed": true
   },
   "outputs": [],
   "source": [
    "import numpy as np\n",
    "\n",
    "import matplotlib\n",
    "import matplotlib.pyplot as pp\n",
    "\n",
    "%matplotlib inline"
   ]
  },
  {
   "cell_type": "code",
   "execution_count": 3,
   "metadata": {
    "collapsed": true
   },
   "outputs": [],
   "source": [
    "%load_ext line_profiler\n",
    "%load_ext memory_profiler"
   ]
  },
  {
   "cell_type": "markdown",
   "metadata": {},
   "source": [
    "**March 2020 update**\n",
    "\n",
    "* at 06:06 in video: in recent version of `Numba`, `autojit` is available as `jit`, with the same functionality. In addition, the Numba compiler has problems with functions that take lists and set (which are mutable) as input. In our case, it's easy to replace the `extent` list with a tuple. "
   ]
  },
  {
   "cell_type": "markdown",
   "metadata": {},
   "source": [
    "## Optimizing the computation of the Mandelbrot set "
   ]
  },
  {
   "cell_type": "code",
   "execution_count": 4,
   "metadata": {
    "collapsed": true
   },
   "outputs": [],
   "source": [
    "def run_mandel(extent=[-2.0,1.0,-1.25,1.25],res=256,maxit=256):\n",
    "    xs = np.linspace(extent[0],extent[1],res)  # x and y arrays,\n",
    "    ys = np.linspace(extent[2],extent[3],res)  # equally spaced\n",
    "    \n",
    "    escaped = np.zeros((res,res),'d')  # escape status of points\n",
    "    \n",
    "    for i in range(res):\n",
    "        for j in range(res):\n",
    "            c = xs[i] + 1j * ys[j]\n",
    "            escaped[i,j] = compute_mandel(c,maxit)\n",
    "    \n",
    "    return escaped / maxit  # normalize for better plotting\n",
    "\n",
    "def compute_mandel(c,maxit=256):\n",
    "    z = 0.0j\n",
    "\n",
    "    for it in range(1,maxit):\n",
    "        z = z*z + c\n",
    "        \n",
    "        if abs(z) > 2.0:\n",
    "            return it\n",
    "\n",
    "    return np.inf  # no escape within maxit iterations... assume never"
   ]
  },
  {
   "cell_type": "code",
   "execution_count": 5,
   "metadata": {
    "collapsed": true
   },
   "outputs": [],
   "source": [
    "def plot_mandel(extent=[-2.0,1.0,-1.25,1.25],res=256,maxit=256,run_mandel=run_mandel):\n",
    "    pp.figure(figsize=(6,6))\n",
    "\n",
    "    cmap = matplotlib.cm.coolwarm\n",
    "    cmap.set_bad('k')\n",
    "\n",
    "    pp.imshow(run_mandel(extent,res,maxit).T,extent=extent,\n",
    "              cmap=cmap,norm=matplotlib.colors.PowerNorm(0.6),\n",
    "              interpolation='none',origin='lower')"
   ]
  },
  {
   "cell_type": "code",
   "execution_count": null,
   "metadata": {
    "collapsed": true
   },
   "outputs": [],
   "source": []
  }
 ],
 "metadata": {
  "anaconda-cloud": {},
  "kernelspec": {
   "display_name": "Python 3",
   "language": "python",
   "name": "python3"
  },
  "language_info": {
   "codemirror_mode": {
    "name": "ipython",
    "version": 3
   },
   "file_extension": ".py",
   "mimetype": "text/x-python",
   "name": "python",
   "nbconvert_exporter": "python",
   "pygments_lexer": "ipython3",
   "version": "3.7.6"
  }
 },
 "nbformat": 4,
 "nbformat_minor": 1
}
