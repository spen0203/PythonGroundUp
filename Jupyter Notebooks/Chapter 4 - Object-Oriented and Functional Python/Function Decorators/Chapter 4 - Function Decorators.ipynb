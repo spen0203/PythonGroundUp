{
 "cells": [
  {
   "cell_type": "markdown",
   "metadata": {},
   "source": [
    "# Chapter 4 - Function Decorators\n",
    "<p> Decorators are high order functions that take a function and return another function. \n",
    "<h2> Learning Objectives: </h2>\n",
    "<li>Writing function decorators </li>\n",
    "<li>Using the decorators in the functools module </li>\n",
    "<li>Using map, filter, functools.reduce, and lambda </li>\n",
    "\n",
    "<h3> Python module/package imports for this chapter </h3>"
   ]
  },
  {
   "cell_type": "code",
   "execution_count": 16,
   "metadata": {},
   "outputs": [],
   "source": [
    "import sys, os, math, random, functools\n",
    "\n",
    "import numpy as np\n",
    "\n",
    "import matplotlib\n",
    "import matplotlib.pyplot as pp\n",
    "import matplotlib.animation as anim\n",
    "\n",
    "%matplotlib inline\n",
    "\n",
    "from IPython.display import display, HTML"
   ]
  },
  {
   "cell_type": "markdown",
   "metadata": {
    "collapsed": true
   },
   "source": [
    "### Code from previous videos (enhanced)"
   ]
  },
  {
   "cell_type": "code",
   "execution_count": 17,
   "metadata": {},
   "outputs": [],
   "source": [
    "from turtle import Turtle, Terrarium"
   ]
  },
  {
   "cell_type": "markdown",
   "metadata": {},
   "source": [
    "## More functional Python\n",
    "## Decorators:\n",
    "<p> Decorators allow you to attach a function to another function but come with a few drawbacks. ie function calls are by default decorated, this can impact expected output </p>"
   ]
  },
  {
   "cell_type": "code",
   "execution_count": 6,
   "metadata": {},
   "outputs": [],
   "source": [
    "#We will use printargs to take a function as a param and return that functions required params\n",
    "#Also can track function calls in recursive functions\n",
    "def printargs(func):\n",
    "    #Decorated function takes any and all arguments\n",
    "    def decorated(*args, **kwargs):\n",
    "        print(\"Function {} called with args = {} and kwargs = {}\" .format(func.__name__, args , kwargs))\n",
    "        return func(*args, **kwargs)\n",
    "    \n",
    "    return decorated\n",
    "        "
   ]
  },
  {
   "cell_type": "code",
   "execution_count": 10,
   "metadata": {},
   "outputs": [],
   "source": [
    "\n",
    "#fibonacci is a recursive function, every num is the sum of the last 2 nums ie: 1,2,3,5,8,13,21,34\n",
    "@printargs #decorator attached to fibonnaci function, calls other function also \n",
    "def fibonacci(n):\n",
    "    \"\"\"Return a number in the Fibonacci sequence.\"\"\" #doc string\n",
    "    if n < 2: # if the num is lt 2 fibonacci wont work 0,1,1 isnt correct...\n",
    "        return n\n",
    "    \n",
    "    return fibonacci(n-1) + fibonacci(n-2) "
   ]
  },
  {
   "cell_type": "code",
   "execution_count": 11,
   "metadata": {},
   "outputs": [
    {
     "name": "stdout",
     "output_type": "stream",
     "text": [
      "Function fibonacci called with args = (5,) and kwargs = {}\n",
      "Function fibonacci called with args = (4,) and kwargs = {}\n",
      "Function fibonacci called with args = (3,) and kwargs = {}\n",
      "Function fibonacci called with args = (2,) and kwargs = {}\n",
      "Function fibonacci called with args = (1,) and kwargs = {}\n",
      "Function fibonacci called with args = (0,) and kwargs = {}\n",
      "Function fibonacci called with args = (1,) and kwargs = {}\n",
      "Function fibonacci called with args = (2,) and kwargs = {}\n",
      "Function fibonacci called with args = (1,) and kwargs = {}\n",
      "Function fibonacci called with args = (0,) and kwargs = {}\n",
      "Function fibonacci called with args = (3,) and kwargs = {}\n",
      "Function fibonacci called with args = (2,) and kwargs = {}\n",
      "Function fibonacci called with args = (1,) and kwargs = {}\n",
      "Function fibonacci called with args = (0,) and kwargs = {}\n",
      "Function fibonacci called with args = (1,) and kwargs = {}\n"
     ]
    },
    {
     "data": {
      "text/plain": [
       "5"
      ]
     },
     "execution_count": 11,
     "metadata": {},
     "output_type": "execute_result"
    }
   ],
   "source": [
    "fibonacci(5)"
   ]
  },
  {
   "cell_type": "markdown",
   "metadata": {},
   "source": [
    "<p> this is the draw backs, items now when called by default are decorated and can cause some unexpected returns: </p>"
   ]
  },
  {
   "cell_type": "code",
   "execution_count": 13,
   "metadata": {},
   "outputs": [
    {
     "data": {
      "text/plain": [
       "<function __main__.printargs.<locals>.decorated(*args, **kwargs)>"
      ]
     },
     "execution_count": 13,
     "metadata": {},
     "output_type": "execute_result"
    }
   ],
   "source": [
    "fibonacci"
   ]
  },
  {
   "cell_type": "code",
   "execution_count": 14,
   "metadata": {},
   "outputs": [
    {
     "name": "stdout",
     "output_type": "stream",
     "text": [
      "Help on function decorated in module __main__:\n",
      "\n",
      "decorated(*args, **kwargs)\n",
      "    #Decorated function takes any and all arguments\n",
      "\n"
     ]
    }
   ],
   "source": [
    "help(fibonacci)"
   ]
  },
  {
   "cell_type": "markdown",
   "metadata": {},
   "source": [
    "### Fix the decorator drawbacks by wrapping the function "
   ]
  },
  {
   "cell_type": "code",
   "execution_count": 18,
   "metadata": {},
   "outputs": [],
   "source": [
    "#to fix this decorater drawback we require another decorator...\n",
    "\n",
    "def printargs(func):\n",
    "    @functools.wraps(func)\n",
    "    def decorated(*args, **kwargs):\n",
    "        print(\"Function {} called with args = {} and kwargs = {}\" .format(func.__name__, args , kwargs))\n",
    "        return func(*args, **kwargs)\n",
    "    \n",
    "    return decorated\n",
    "\n",
    "\n",
    "@printargs \n",
    "def fibonacci(n):\n",
    "    \"\"\"Return a number in the Fibonacci sequence.\"\"\" #doc string\n",
    "    if n < 2: # if the num is lt 2 fibonacci wont work 0,1,1 isnt correct...\n",
    "        return n\n",
    "    \n",
    "    return fibonacci(n-1) + fibonacci(n-2) \n",
    "        "
   ]
  },
  {
   "cell_type": "code",
   "execution_count": 19,
   "metadata": {},
   "outputs": [
    {
     "data": {
      "text/plain": [
       "<function __main__.fibonacci(n)>"
      ]
     },
     "execution_count": 19,
     "metadata": {},
     "output_type": "execute_result"
    }
   ],
   "source": [
    "fibonacci"
   ]
  },
  {
   "cell_type": "code",
   "execution_count": 20,
   "metadata": {},
   "outputs": [
    {
     "name": "stdout",
     "output_type": "stream",
     "text": [
      "Help on function fibonacci in module __main__:\n",
      "\n",
      "fibonacci(n)\n",
      "    Return a number in the Fibonacci sequence.\n",
      "\n"
     ]
    }
   ],
   "source": [
    "help(fibonacci)"
   ]
  },
  {
   "cell_type": "code",
   "execution_count": 21,
   "metadata": {},
   "outputs": [
    {
     "name": "stdout",
     "output_type": "stream",
     "text": [
      "Function fibonacci called with args = (5,) and kwargs = {}\n",
      "Function fibonacci called with args = (4,) and kwargs = {}\n",
      "Function fibonacci called with args = (3,) and kwargs = {}\n",
      "Function fibonacci called with args = (2,) and kwargs = {}\n",
      "Function fibonacci called with args = (1,) and kwargs = {}\n",
      "Function fibonacci called with args = (0,) and kwargs = {}\n",
      "Function fibonacci called with args = (1,) and kwargs = {}\n",
      "Function fibonacci called with args = (2,) and kwargs = {}\n",
      "Function fibonacci called with args = (1,) and kwargs = {}\n",
      "Function fibonacci called with args = (0,) and kwargs = {}\n",
      "Function fibonacci called with args = (3,) and kwargs = {}\n",
      "Function fibonacci called with args = (2,) and kwargs = {}\n",
      "Function fibonacci called with args = (1,) and kwargs = {}\n",
      "Function fibonacci called with args = (0,) and kwargs = {}\n",
      "Function fibonacci called with args = (1,) and kwargs = {}\n"
     ]
    },
    {
     "data": {
      "text/plain": [
       "5"
      ]
     },
     "execution_count": 21,
     "metadata": {},
     "output_type": "execute_result"
    }
   ],
   "source": [
    "fibonacci(5)"
   ]
  },
  {
   "cell_type": "code",
   "execution_count": 22,
   "metadata": {},
   "outputs": [],
   "source": [
    "@functools.lru_cache(maxsize=None) #Cache mechanism \n",
    "@printargs \n",
    "def fibonacci(n):\n",
    "    \"\"\"Return a number in the Fibonacci sequence.\"\"\" #doc string\n",
    "    if n < 2: # if the num is lt 2 fibonacci wont work 0,1,1 isnt correct...\n",
    "        return n\n",
    "    \n",
    "    return fibonacci(n-1) + fibonacci(n-2) "
   ]
  },
  {
   "cell_type": "code",
   "execution_count": 23,
   "metadata": {},
   "outputs": [
    {
     "name": "stdout",
     "output_type": "stream",
     "text": [
      "Function fibonacci called with args = (5,) and kwargs = {}\n",
      "Function fibonacci called with args = (4,) and kwargs = {}\n",
      "Function fibonacci called with args = (3,) and kwargs = {}\n",
      "Function fibonacci called with args = (2,) and kwargs = {}\n",
      "Function fibonacci called with args = (1,) and kwargs = {}\n",
      "Function fibonacci called with args = (0,) and kwargs = {}\n"
     ]
    },
    {
     "data": {
      "text/plain": [
       "5"
      ]
     },
     "execution_count": 23,
     "metadata": {},
     "output_type": "execute_result"
    }
   ],
   "source": [
    "fibonacci(5)"
   ]
  },
  {
   "cell_type": "markdown",
   "metadata": {},
   "source": [
    "## Drawing a turtle in a circle:\n"
   ]
  },
  {
   "cell_type": "code",
   "execution_count": 25,
   "metadata": {},
   "outputs": [
    {
     "name": "stdout",
     "output_type": "stream",
     "text": [
      "Function fibonacci called with args = (6,) and kwargs = {}\n",
      "Function fibonacci called with args = (7,) and kwargs = {}\n",
      "Function fibonacci called with args = (8,) and kwargs = {}\n",
      "Function fibonacci called with args = (9,) and kwargs = {}\n"
     ]
    },
    {
     "data": {
      "image/png": "[encoded data removed]",
      "text/plain": [
       "<Figure size 360x360 with 1 Axes>"
      ]
     },
     "metadata": {},
     "output_type": "display_data"
    }
   ],
   "source": [
    "def quartedcircle(tq,dist):\n",
    "    for a in range(90):\n",
    "        t1.forward(dist)\n",
    "        t1.left(1)\n",
    "            \n",
    "with Terrarium() as t:\n",
    "    t1 = Turtle(t)\n",
    "    \n",
    "    for dist in (fibonacci(i) for i in range(10)):\n",
    "        quartedcircle(t1,dist)"
   ]
  },
  {
   "cell_type": "markdown",
   "metadata": {},
   "source": [
    "#### Using Lambda to instead of functions"
   ]
  },
  {
   "cell_type": "code",
   "execution_count": 26,
   "metadata": {},
   "outputs": [
    {
     "name": "stdout",
     "output_type": "stream",
     "text": [
      "0\n",
      "2\n",
      "4\n",
      "6\n",
      "8\n"
     ]
    }
   ],
   "source": [
    "#Normal method\n",
    "def twice(a):\n",
    "    return 2*a\n",
    "\n",
    "for i in map(twice,range(5)):\n",
    "    print(i)"
   ]
  },
  {
   "cell_type": "code",
   "execution_count": 27,
   "metadata": {},
   "outputs": [
    {
     "name": "stdout",
     "output_type": "stream",
     "text": [
      "0\n",
      "2\n",
      "4\n",
      "6\n",
      "8\n"
     ]
    }
   ],
   "source": [
    "#Reduced by using Lambda\n",
    "for i in map(lambda a: 2*a, range(5)):\n",
    "    print(i)"
   ]
  },
  {
   "cell_type": "code",
   "execution_count": 33,
   "metadata": {},
   "outputs": [
    {
     "data": {
      "image/png": "[encoded data removed]",
      "text/plain": [
       "<Figure size 360x360 with 1 Axes>"
      ]
     },
     "metadata": {},
     "output_type": "display_data"
    }
   ],
   "source": [
    "with Terrarium() as t:\n",
    "    t1 = Turtle(t)\n",
    "    \n",
    "    for dist in map(lambda x: x*2, map(fibonacci,range(10))):\n",
    "        quartedcircle(t1,dist)"
   ]
  },
  {
   "cell_type": "code",
   "execution_count": 32,
   "metadata": {},
   "outputs": [
    {
     "data": {
      "image/png": "[encoded data removed]",
      "text/plain": [
       "<Figure size 360x360 with 1 Axes>"
      ]
     },
     "metadata": {},
     "output_type": "display_data"
    }
   ],
   "source": [
    "#Replace the previous with by only using even numbers\n",
    "with Terrarium() as t:\n",
    "    t1 = Turtle(t)\n",
    "    \n",
    "    for dist in map(lambda x: x % 2, map(fibonacci,range(10))):\n",
    "        quartedcircle(t1,dist)"
   ]
  },
  {
   "cell_type": "code",
   "execution_count": 35,
   "metadata": {},
   "outputs": [
    {
     "data": {
      "text/plain": [
       "88"
      ]
     },
     "execution_count": 35,
     "metadata": {},
     "output_type": "execute_result"
    }
   ],
   "source": [
    "functools.reduce(lambda x,y: x+y, map(fibonacci,range(10)))"
   ]
  },
  {
   "cell_type": "code",
   "execution_count": 38,
   "metadata": {},
   "outputs": [
    {
     "data": {
      "text/plain": [
       "88"
      ]
     },
     "execution_count": 38,
     "metadata": {},
     "output_type": "execute_result"
    }
   ],
   "source": [
    "sum(map(fibonacci, range(10)))"
   ]
  },
  {
   "cell_type": "code",
   "execution_count": null,
   "metadata": {},
   "outputs": [],
   "source": []
  }
 ],
 "metadata": {
  "anaconda-cloud": {},
  "kernelspec": {
   "display_name": "Python 3",
   "language": "python",
   "name": "python3"
  },
  "language_info": {
   "codemirror_mode": {
    "name": "ipython",
    "version": 3
   },
   "file_extension": ".py",
   "mimetype": "text/x-python",
   "name": "python",
   "nbconvert_exporter": "python",
   "pygments_lexer": "ipython3",
   "version": "3.7.6"
  }
 },
 "nbformat": 4,
 "nbformat_minor": 1
}
