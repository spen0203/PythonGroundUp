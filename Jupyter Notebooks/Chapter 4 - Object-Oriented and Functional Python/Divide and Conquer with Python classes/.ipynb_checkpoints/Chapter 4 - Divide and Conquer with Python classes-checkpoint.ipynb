{
 "cells": [
  {
   "cell_type": "markdown",
   "metadata": {},
   "source": [
    "# Chapter 4 - Divide and Conquer with Python classes\n",
    "<li>Create Classed in Python </li>\n",
    "<li>Define __init__ method </li>\n",
    "<li>Use self to refer to instance attributes and methods</li>\n"
   ]
  },
  {
   "cell_type": "markdown",
   "metadata": {},
   "source": [
    "### Python module/package imports for this chapter"
   ]
  },
  {
   "cell_type": "code",
   "execution_count": 5,
   "metadata": {},
   "outputs": [],
   "source": [
    "import sys, os, math, random, functools\n",
    "\n",
    "import numpy as np\n",
    "\n",
    "import matplotlib\n",
    "import matplotlib.pyplot as pp\n",
    "import matplotlib.animation as anim\n",
    "\n",
    "%matplotlib inline\n",
    "\n",
    "from IPython.display import display, HTML\n"
   ]
  },
  {
   "cell_type": "markdown",
   "metadata": {},
   "source": [
    "## Making Python classes"
   ]
  },
  {
   "cell_type": "code",
   "execution_count": 70,
   "metadata": {},
   "outputs": [],
   "source": [
    "#Represents moving reptile, holds state, position, angle, pen position(does it leave a trail)\n",
    "class Turtle(object):\n",
    "    deg = math.pi / 180.0\n",
    "    \n",
    "    def __init__(self,terrarium): #initialize turtle object, pass in terrarium\n",
    "        self.pos = (0,0)\n",
    "        self.angle = 0\n",
    "        self.pen = True\n",
    "        \n",
    "        self.axes = terrarium.axes\n",
    "        \n",
    "    #Class methods require self be passed\n",
    "    def forward(self,distance): \n",
    "        #calculate distance to move forward\n",
    "        posnew = (self.pos[0] + distance * math.cos(self.deg * self.angle),\n",
    "                   self.pos[1] + distance * math.sin(self.deg * self.angle))\n",
    "          \n",
    "        if self.pen: # if pen is down draw\n",
    "            line = pp.Line2D((self.pos[0],posnew[0]),(self.pos[1],posnew[1]))\n",
    "            self.axes.add_line(line)\n",
    "                             \n",
    "        self.pos = posnew \n",
    "    \n",
    "    #change angles\n",
    "    def left(self,angle):\n",
    "        self.angle = (self.angle + angle) % 360 #ensure angle is within 360degrees\n",
    "            \n",
    "\n",
    "    def right(self,angle):\n",
    "        self.angle = (self.angle - angle) % 360\n",
    "\n",
    "    #Put pen up or down to draw line behind\n",
    "    def penup(self):\n",
    "        self.pen = False\n",
    "    \n",
    "    def pendown(self):\n",
    "        self.pen = True\n",
    "\n",
    "    \n",
    "#Holds the image we draw\n",
    "class Terrarium(object):\n",
    "    def __init__(self):\n",
    "        self.fig = pp.figure(figsize=(3,3))\n",
    "        self.axes = pp.axes()\n",
    "\n",
    "        #remove x and y ticks\n",
    "        self.axes.set_xticks([])\n",
    "        self.axes.set_yticks([])\n",
    "\n",
    "        #Change the opacity of the borders\n",
    "        for spine in ['bottom','top','left','right']:\n",
    "            self.axes.spines[spine].set_color('0.9')\n",
    "        \n",
    "        \n",
    "    # crops to what has been drawn\n",
    "    def rescale(self):\n",
    "        self.axes.axis('scaled')\n",
    "\n",
    "        xmin, xmax, ymin, ymax = self.axes.axis()\n",
    "        dx = (xmax - xmin) / 50\n",
    "        self.axes.axis([xmin-dx,xmax+dx,ymin-dx,ymax+dx])  "
   ]
  },
  {
   "cell_type": "code",
   "execution_count": null,
   "metadata": {},
   "outputs": [],
   "source": []
  },
  {
   "cell_type": "code",
   "execution_count": 73,
   "metadata": {},
   "outputs": [
    {
     "data": {
      "image/png": "[encoded data removed]",
      "text/plain": [
       "<Figure size 216x216 with 1 Axes>"
      ]
     },
     "metadata": {},
     "output_type": "display_data"
    }
   ],
   "source": [
    "t = Terrarium()\n",
    "\n",
    "turt = Turtle(t)\n",
    "\n",
    "turt.forward(100)\n",
    "turt.right(34)\n",
    "turt.forward(10)\n",
    "turt.left(90)\n",
    "\n",
    "t.rescale()\n",
    "turt.penup()\n",
    "turt.forward(100)\n",
    "turt.pendown()\n",
    "turt.forward(100)\n",
    "t.rescale()\n"
   ]
  },
  {
   "cell_type": "code",
   "execution_count": null,
   "metadata": {},
   "outputs": [],
   "source": []
  },
  {
   "cell_type": "code",
   "execution_count": null,
   "metadata": {},
   "outputs": [],
   "source": []
  }
 ],
 "metadata": {
  "kernelspec": {
   "display_name": "Python 3",
   "language": "python",
   "name": "python3"
  },
  "language_info": {
   "codemirror_mode": {
    "name": "ipython",
    "version": 3
   },
   "file_extension": ".py",
   "mimetype": "text/x-python",
   "name": "python",
   "nbconvert_exporter": "python",
   "pygments_lexer": "ipython3",
   "version": "3.7.6"
  }
 },
 "nbformat": 4,
 "nbformat_minor": 4
}
