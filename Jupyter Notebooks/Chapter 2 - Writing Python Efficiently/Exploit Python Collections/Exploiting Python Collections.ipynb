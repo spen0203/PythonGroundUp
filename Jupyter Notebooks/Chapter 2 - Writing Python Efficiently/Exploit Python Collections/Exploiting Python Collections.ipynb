{
 "cells": [
  {
   "cell_type": "markdown",
   "metadata": {},
   "source": [
    "# Exploit Python Collections\n",
    "#### Learning objectives:\n",
    "<ul>\n",
    "    <li> Using named tuploe to describe records efficiently</li>\n",
    "    <li> Using Counter to count repeated elements in a sequence </li>\n",
    "    <li> Using defaultdict and OrderedDict to handle default calues and ordered keys</li>\n",
    "    <li> Using deque to manipulate double-ended queues</li>\n",
    "\n",
    "</ul>\n",
    "\n",
    "\n",
    "\n",
    "\n",
    "\n",
    "\n",
    "\n",
    "\n",
    "\n"
   ]
  },
  {
   "cell_type": "markdown",
   "metadata": {},
   "source": [
    "##### Python module/package imports for  chapter 2"
   ]
  },
  {
   "cell_type": "code",
   "execution_count": 62,
   "metadata": {},
   "outputs": [],
   "source": [
    "import math, json, collections, itertools #Import the required libraries can be done in one line\n",
    "\n",
    "import numpy as np #import a library using an alias\n",
    "import matplotlib.pyplot as pp\n",
    "\n",
    "%matplotlib inline\n",
    "\n",
    "from mpl_toolkits.basemap import Basemap\n",
    "\n",
    "import geopy\n"
   ]
  },
  {
   "cell_type": "markdown",
   "metadata": {},
   "source": [
    "## Beyond Lists, Dicts and sets: more powerful collections"
   ]
  },
  {
   "cell_type": "code",
   "execution_count": 63,
   "metadata": {},
   "outputs": [
    {
     "data": {
      "text/plain": [
       "['1896\\tThomas Burke\\tUSA\\t100m men\\n',\n",
       " '1896\\tThomas Curtis\\tUSA\\t110m hurdles men\\n',\n",
       " '1896\\tEdwin Flack\\tAUS\\t1500m men\\n',\n",
       " '1896\\tThomas Burke\\tUSA\\t400m men\\n',\n",
       " '1896\\tEdwin Flack\\tAUS\\t800m men\\n',\n",
       " '1896\\tRobert Garrett\\tUSA\\tdiscus throw men\\n',\n",
       " '1896\\tEllery Clark\\tUSA\\thigh jump men\\n',\n",
       " '1896\\tEllery Clark\\tUSA\\tlong jump men\\n',\n",
       " '1896\\tSpyridon Louis\\tGRE\\tmarathon men\\n',\n",
       " '1896\\tWilliam Welles Hoyt\\tUSA\\tpole vault men\\n']"
      ]
     },
     "execution_count": 63,
     "metadata": {},
     "output_type": "execute_result"
    }
   ],
   "source": [
    "open('goldmedals.txt', 'r').readlines()[:10] #open the file and read the first 10 lines\n",
    "# This document is tabular (split by tabs\"\\t\" )"
   ]
  },
  {
   "cell_type": "markdown",
   "metadata": {},
   "source": [
    "##### Namedtuple example 1:\n",
    "<p>Contained items are immutatable, you can replace and item completly using  Allow acces by name not just index and iteration,</p>"
   ]
  },
  {
   "cell_type": "code",
   "execution_count": 64,
   "metadata": {},
   "outputs": [],
   "source": [
    "\n",
    "medal = collections.namedtuple('medal',['year','athlete','team','event']) # namedtuple(objectName,[objectAttribute])\n",
    "#medal is a collection of Medals, each contains a year and athlete attribute]\n",
    "\n",
    "m = medal('1896','Thomas Burke', 'USA','100m men')\n"
   ]
  },
  {
   "cell_type": "code",
   "execution_count": 65,
   "metadata": {},
   "outputs": [
    {
     "data": {
      "text/plain": [
       "medal(year='1896', athlete='Thomas Burke', team='USA', event='100m men')"
      ]
     },
     "execution_count": 65,
     "metadata": {},
     "output_type": "execute_result"
    }
   ],
   "source": [
    "m"
   ]
  },
  {
   "cell_type": "code",
   "execution_count": 66,
   "metadata": {},
   "outputs": [
    {
     "data": {
      "text/plain": [
       "('1896', 'Thomas Burke')"
      ]
     },
     "execution_count": 66,
     "metadata": {},
     "output_type": "execute_result"
    }
   ],
   "source": [
    "m.year, m.athlete"
   ]
  },
  {
   "cell_type": "markdown",
   "metadata": {},
   "source": [
    "### Using namedtouple with a doc\n"
   ]
  },
  {
   "cell_type": "code",
   "execution_count": 67,
   "metadata": {},
   "outputs": [
    {
     "data": {
      "text/plain": [
       "[medal(year='1896', athlete='Thomas Burke', team='USA', event='100m men'),\n",
       " medal(year='1896', athlete='Thomas Curtis', team='USA', event='110m hurdles men'),\n",
       " medal(year='1896', athlete='Edwin Flack', team='AUS', event='1500m men'),\n",
       " medal(year='1896', athlete='Thomas Burke', team='USA', event='400m men'),\n",
       " medal(year='1896', athlete='Edwin Flack', team='AUS', event='800m men')]"
      ]
     },
     "execution_count": 67,
     "metadata": {},
     "output_type": "execute_result"
    }
   ],
   "source": [
    "medals = [medal(*line.strip().split('\\t')) for line in open('goldmedals.txt','r')] \n",
    "# List comprehension to go through doc - for line in open('goldmedals.txt','r')\n",
    "# line.strip().split('\\t') - split the line into multiple feilds and strip white space\n",
    "# medal(*______ ) - * spreads the list returned by line split into medal params\n",
    "\n",
    "medals[:5]\n",
    "\n"
   ]
  },
  {
   "cell_type": "code",
   "execution_count": 68,
   "metadata": {},
   "outputs": [],
   "source": [
    "# creates a counter for each team, increments with every medal\n",
    "teams = collections.Counter(medal.team for medal in medals)"
   ]
  },
  {
   "cell_type": "code",
   "execution_count": 69,
   "metadata": {},
   "outputs": [
    {
     "data": {
      "text/plain": [
       "Counter({'USA': 521,\n",
       "         'AUS': 23,\n",
       "         'GRE': 7,\n",
       "         'GBR': 71,\n",
       "         'CAN': 21,\n",
       "         'ZZX': 5,\n",
       "         'HUN': 10,\n",
       "         'FRA': 14,\n",
       "         'RSA': 8,\n",
       "         'SWE': 21,\n",
       "         'FIN': 60,\n",
       "         'NOR': 7,\n",
       "         'ITA': 19,\n",
       "         'GER': 18,\n",
       "         'POL': 27,\n",
       "         'IRL': 4,\n",
       "         'JPN': 7,\n",
       "         'ARG': 2,\n",
       "         'NZL': 10,\n",
       "         'TCH': 11,\n",
       "         'NED': 9,\n",
       "         'JAM': 42,\n",
       "         'BEL': 4,\n",
       "         'AUT': 1,\n",
       "         'LUX': 1,\n",
       "         'URS': 79,\n",
       "         'BRA': 5,\n",
       "         'EUA': 7,\n",
       "         'ROU': 11,\n",
       "         'ETH': 22,\n",
       "         'KEN': 33,\n",
       "         'TUN': 1,\n",
       "         'GDR': 50,\n",
       "         'FRG': 15,\n",
       "         'UGA': 2,\n",
       "         'TRI': 2,\n",
       "         'MEX': 3,\n",
       "         'CUB': 10,\n",
       "         'BUL': 5,\n",
       "         'MAR': 6,\n",
       "         'POR': 4,\n",
       "         'CHN': 8,\n",
       "         'ESP': 3,\n",
       "         'ALG': 4,\n",
       "         'EUN': 12,\n",
       "         'LTU': 3,\n",
       "         'KOR': 1,\n",
       "         'RUS': 29,\n",
       "         'ECU': 1,\n",
       "         'BDI': 1,\n",
       "         'SYR': 1,\n",
       "         'CZE': 5,\n",
       "         'NGR': 1,\n",
       "         'UKR': 3,\n",
       "         'KAZ': 2,\n",
       "         'BAH': 12,\n",
       "         'MOZ': 1,\n",
       "         'EST': 2,\n",
       "         'BLR': 4,\n",
       "         'DOM': 2,\n",
       "         'CMR': 2,\n",
       "         'SLO': 1,\n",
       "         'PAN': 1,\n",
       "         'GRN': 1,\n",
       "         'CRO': 3,\n",
       "         'TUR': 1,\n",
       "         'SUI': 1,\n",
       "         'COL': 1,\n",
       "         'BRN': 1,\n",
       "         'TJK': 1,\n",
       "         'SVK': 1})"
      ]
     },
     "execution_count": 69,
     "metadata": {},
     "output_type": "execute_result"
    }
   ],
   "source": [
    "teams"
   ]
  },
  {
   "cell_type": "code",
   "execution_count": 70,
   "metadata": {},
   "outputs": [
    {
     "data": {
      "text/plain": [
       "[('USA', 521), ('URS', 79), ('GBR', 71), ('FIN', 60), ('GDR', 50)]"
      ]
     },
     "execution_count": 70,
     "metadata": {},
     "output_type": "execute_result"
    }
   ],
   "source": [
    "teams.most_common(5) # Counters offer lots of built in functions"
   ]
  },
  {
   "cell_type": "code",
   "execution_count": 71,
   "metadata": {},
   "outputs": [
    {
     "data": {
      "text/plain": [
       "(['USA', 'ZZX', 'GBR', 'CAN', 'HUN'], [16, 5, 3, 1, 1])"
      ]
     },
     "execution_count": 71,
     "metadata": {},
     "output_type": "execute_result"
    }
   ],
   "source": [
    "#Count medals per team of a specific year and return the top 5\n",
    "def best_by_year(year):\n",
    "    counts = collections.Counter(medal.team for medal in medals if medal.year == str(year))\n",
    "    best = counts.most_common(5) #Print 5 most common\n",
    "    \n",
    "    return[b[0] for b in best],[b[1] for b in best]\n",
    "\n",
    "best_by_year(1900)"
   ]
  },
  {
   "cell_type": "code",
   "execution_count": 72,
   "metadata": {},
   "outputs": [
    {
     "data": {
      "text/plain": [
       "([<matplotlib.axis.XTick at 0x2113a77b348>,\n",
       "  <matplotlib.axis.XTick at 0x2113a753cc8>,\n",
       "  <matplotlib.axis.XTick at 0x2113a753848>,\n",
       "  <matplotlib.axis.XTick at 0x2113a772348>,\n",
       "  <matplotlib.axis.XTick at 0x2113a7729c8>],\n",
       " <a list of 5 Text xticklabel objects>)"
      ]
     },
     "execution_count": 72,
     "metadata": {},
     "output_type": "execute_result"
    },
    {
     "data": {
      "image/png": "[encoded data removed]",
      "text/plain": [
       "<Figure size 432x216 with 1 Axes>"
      ]
     },
     "metadata": {
      "needs_background": "light"
     },
     "output_type": "display_data"
    }
   ],
   "source": [
    "\n",
    "countries, tally = best_by_year(1900) #returns two lists, country and count\n",
    "\n",
    "#Draw the best_by_year return onto a bar graph using matlib\n",
    "pp.figure(figsize=(6,3)) \n",
    "bars = pp.bar(np.arange(5), tally, align='center')\n",
    "pp.xticks(np.arange(5), countries)\n",
    "\n",
    "\n"
   ]
  },
  {
   "cell_type": "code",
   "execution_count": 75,
   "metadata": {},
   "outputs": [],
   "source": [
    "pp.style.use('ggplot') #style the plot graph\n",
    "colors = pp.cm.Set3(np.linspace(0,1,5)) #Create custom color set\n",
    "#compare multiple years\n",
    "def plot_year(year):\n",
    "    countries, tally = best_by_year(year) #returns two lists, country and count\n",
    "\n",
    "    #Draw the best_by_year return onto a bar graph using matlib\n",
    "    bars = pp.bar(np.arange(5), tally, align='center')\n",
    "    pp.xticks(np.arange(5), countries)\n",
    "    \n",
    "    for bar, color in zip(bars,colors): #set each bar to a different color\n",
    "        bar.set_color(color)\n",
    "    \n",
    "\n",
    "    pp.title(year)\n"
   ]
  },
  {
   "cell_type": "code",
   "execution_count": 76,
   "metadata": {},
   "outputs": [
    {
     "data": {
      "image/png": "[encoded data removed]",
      "text/plain": [
       "<Figure size 288x432 with 3 Axes>"
      ]
     },
     "metadata": {},
     "output_type": "display_data"
    }
   ],
   "source": [
    "pp.figure(figsize=(4,6))\n",
    "\n",
    "pp.subplot(3,1,1); plot_year(2008)\n",
    "pp.subplot(3,1,2); plot_year(2012)\n",
    "pp.subplot(3,1,3); plot_year(2016)\n",
    "\n",
    "pp.tight_layout()"
   ]
  },
  {
   "cell_type": "code",
   "execution_count": 78,
   "metadata": {},
   "outputs": [],
   "source": [
    "winners_by_country = {} #empty dict\n",
    "\n",
    "for medal in medals:\n",
    "    if medal.team not in winners_by_country: #confirm teams not in list\n",
    "        winners_by_country[medal.team] = [medal.athlete] # add the athlete to the team list\n",
    "    else:\n",
    "        winners_by_country[medal.team].append(medal.athlete)"
   ]
  },
  {
   "cell_type": "code",
   "execution_count": 79,
   "metadata": {},
   "outputs": [
    {
     "data": {
      "text/plain": [
       "['Ugo Frigerio',\n",
       " 'Ugo Frigerio',\n",
       " 'Ugo Frigerio',\n",
       " 'Luigi Beccali',\n",
       " 'Trebisonda Valla',\n",
       " 'Adolfo Consolini',\n",
       " 'Giuseppe Dordoni',\n",
       " 'Livio Berruti',\n",
       " 'Abdon Pamich',\n",
       " 'Pietro Mennea',\n",
       " 'Maurizio Damilano',\n",
       " 'Sara Simeoni',\n",
       " 'Alberto Cova',\n",
       " 'Gabriella Dorio',\n",
       " 'Alessandro Andrei',\n",
       " 'Gelindo Bordin',\n",
       " 'Ivano Brugnetti',\n",
       " 'Stefano Baldini',\n",
       " 'Alex Schwazer']"
      ]
     },
     "execution_count": 79,
     "metadata": {},
     "output_type": "execute_result"
    }
   ],
   "source": [
    "winners_by_country['ITA']"
   ]
  },
  {
   "cell_type": "markdown",
   "metadata": {},
   "source": [
    "###  better way use default dict\n"
   ]
  },
  {
   "cell_type": "code",
   "execution_count": 81,
   "metadata": {},
   "outputs": [
    {
     "data": {
      "text/plain": [
       "['Michel Theato',\n",
       " 'Joseph Guillemot',\n",
       " 'Boughera Mohamed El Ouafi',\n",
       " 'Micheline Ostermeyer',\n",
       " 'Micheline Ostermeyer',\n",
       " 'Alain Mimoun',\n",
       " 'Colette Besson',\n",
       " 'Guy Drut',\n",
       " 'Pierre Quinon',\n",
       " 'Marie-Jose Perec',\n",
       " 'Marie-Jose Perec',\n",
       " 'Marie-Jose Perec',\n",
       " 'Jean Galfione',\n",
       " 'Renaud Lavillenie']"
      ]
     },
     "execution_count": 81,
     "metadata": {},
     "output_type": "execute_result"
    }
   ],
   "source": [
    "winners_by_country = collections.defaultdict(list)\n",
    "\n",
    "for medal in medals:\n",
    "    winners_by_country[medal.team].append(medal.athlete)\n",
    "    \n",
    "winners_by_country['FRA']"
   ]
  },
  {
   "cell_type": "markdown",
   "metadata": {},
   "source": [
    "### Ordered Dict\n"
   ]
  },
  {
   "cell_type": "code",
   "execution_count": 85,
   "metadata": {},
   "outputs": [],
   "source": [
    "ordered_winners = collections.OrderedDict()\n",
    "\n",
    "for medal in medals:\n",
    "    if medal.team == 'ITA':\n",
    "        ordered_winners[medal.athlete] = medal.event + ' ' + medal.year"
   ]
  },
  {
   "cell_type": "code",
   "execution_count": 86,
   "metadata": {},
   "outputs": [
    {
     "data": {
      "text/plain": [
       "OrderedDict([('Ugo Frigerio', '10000m walk men 1924'),\n",
       "             ('Luigi Beccali', '1500m men 1932'),\n",
       "             ('Trebisonda Valla', '80m hurdles women 1936'),\n",
       "             ('Adolfo Consolini', 'discus throw men 1948'),\n",
       "             ('Giuseppe Dordoni', '50km walk men 1952'),\n",
       "             ('Livio Berruti', '200m men 1960'),\n",
       "             ('Abdon Pamich', '50km walk men 1964'),\n",
       "             ('Pietro Mennea', '200m men 1980'),\n",
       "             ('Maurizio Damilano', '20km walk men 1980'),\n",
       "             ('Sara Simeoni', 'high jump women 1980'),\n",
       "             ('Alberto Cova', '10000m men 1984'),\n",
       "             ('Gabriella Dorio', '1500m women 1984'),\n",
       "             ('Alessandro Andrei', 'shot put men 1984'),\n",
       "             ('Gelindo Bordin', 'marathon men 1988'),\n",
       "             ('Ivano Brugnetti', '20km walk men 2004'),\n",
       "             ('Stefano Baldini', 'marathon men 2004'),\n",
       "             ('Alex Schwazer', '50km walk men 2008')])"
      ]
     },
     "execution_count": 86,
     "metadata": {},
     "output_type": "execute_result"
    }
   ],
   "source": [
    "ordered_winners"
   ]
  },
  {
   "cell_type": "markdown",
   "metadata": {},
   "source": [
    "#### regular dict doesnt preserve the order:"
   ]
  },
  {
   "cell_type": "code",
   "execution_count": 88,
   "metadata": {},
   "outputs": [
    {
     "data": {
      "text/plain": [
       "{'Ugo Frigerio': '10000m walk men 1924',\n",
       " 'Luigi Beccali': '1500m men 1932',\n",
       " 'Trebisonda Valla': '80m hurdles women 1936',\n",
       " 'Adolfo Consolini': 'discus throw men 1948',\n",
       " 'Giuseppe Dordoni': '50km walk men 1952',\n",
       " 'Livio Berruti': '200m men 1960',\n",
       " 'Abdon Pamich': '50km walk men 1964',\n",
       " 'Pietro Mennea': '200m men 1980',\n",
       " 'Maurizio Damilano': '20km walk men 1980',\n",
       " 'Sara Simeoni': 'high jump women 1980',\n",
       " 'Alberto Cova': '10000m men 1984',\n",
       " 'Gabriella Dorio': '1500m women 1984',\n",
       " 'Alessandro Andrei': 'shot put men 1984',\n",
       " 'Gelindo Bordin': 'marathon men 1988',\n",
       " 'Ivano Brugnetti': '20km walk men 2004',\n",
       " 'Stefano Baldini': 'marathon men 2004',\n",
       " 'Alex Schwazer': '50km walk men 2008'}"
      ]
     },
     "execution_count": 88,
     "metadata": {},
     "output_type": "execute_result"
    }
   ],
   "source": [
    "{medal.athlete: medal.event + ' ' + medal.year for medal in medals if medal.team == 'ITA'}"
   ]
  },
  {
   "cell_type": "markdown",
   "metadata": {},
   "source": [
    "####  Collection Deque: \n",
    "<p>Allows you to push and pop either side as its a double ended queue </p>"
   ]
  },
  {
   "cell_type": "code",
   "execution_count": 93,
   "metadata": {},
   "outputs": [
    {
     "data": {
      "text/plain": [
       "deque([0, 1, 2, 3, 4, 5, 6, 7, 8, 9])"
      ]
     },
     "execution_count": 93,
     "metadata": {},
     "output_type": "execute_result"
    }
   ],
   "source": [
    "dq = collections.deque(range(10))\n",
    "dq"
   ]
  },
  {
   "cell_type": "code",
   "execution_count": 97,
   "metadata": {},
   "outputs": [
    {
     "name": "stdout",
     "output_type": "stream",
     "text": [
      "deque([11, 12, 13, 14, 10, 11, 12, 13, 14, 10])\n",
      "deque([12, 13, 14, 10, 11, 12, 13, 14, 10, 11])\n",
      "deque([13, 14, 10, 11, 12, 13, 14, 10, 11, 12])\n",
      "deque([14, 10, 11, 12, 13, 14, 10, 11, 12, 13])\n",
      "deque([10, 11, 12, 13, 14, 10, 11, 12, 13, 14])\n"
     ]
    },
    {
     "data": {
      "text/plain": [
       "deque([10, 11, 12, 13, 14, 10, 11, 12, 13, 14])"
      ]
     },
     "execution_count": 97,
     "metadata": {},
     "output_type": "execute_result"
    }
   ],
   "source": [
    "for i in range(10,15):\n",
    "    dq.append(i) #append 10-14 to the end\n",
    "    v=dq.popleft() # pops index 0\n",
    "    print(dq)\n"
   ]
  },
  {
   "cell_type": "code",
   "execution_count": 98,
   "metadata": {},
   "outputs": [
    {
     "name": "stdout",
     "output_type": "stream",
     "text": [
      "deque([0, 10, 11, 12, 13, 14, 10, 11, 12, 13])\n",
      "deque([1, 0, 10, 11, 12, 13, 14, 10, 11, 12])\n",
      "deque([2, 1, 0, 10, 11, 12, 13, 14, 10, 11])\n",
      "deque([3, 2, 1, 0, 10, 11, 12, 13, 14, 10])\n",
      "deque([4, 3, 2, 1, 0, 10, 11, 12, 13, 14])\n"
     ]
    }
   ],
   "source": [
    "for i in range(0,5):\n",
    "    dq.appendleft(i) #append 0-5 to the first index\n",
    "    v=dq.pop() # pops last index\n",
    "    print(dq)\n"
   ]
  },
  {
   "cell_type": "code",
   "execution_count": null,
   "metadata": {},
   "outputs": [],
   "source": []
  }
 ],
 "metadata": {
  "kernelspec": {
   "display_name": "Python 3",
   "language": "python",
   "name": "python3"
  },
  "language_info": {
   "codemirror_mode": {
    "name": "ipython",
    "version": 3
   },
   "file_extension": ".py",
   "mimetype": "text/x-python",
   "name": "python",
   "nbconvert_exporter": "python",
   "pygments_lexer": "ipython3",
   "version": "3.7.6"
  }
 },
 "nbformat": 4,
 "nbformat_minor": 4
}
