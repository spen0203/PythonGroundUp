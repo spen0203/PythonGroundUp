{
 "cells": [
  {
   "cell_type": "markdown",
   "metadata": {},
   "source": [
    "<h1> Pythone module / package imports Chapter 2 </h1>\n",
    "\n"
   ]
  },
  {
   "cell_type": "code",
   "execution_count": null,
   "metadata": {},
   "outputs": [],
   "source": [
    "import math, json, collections, itertools #Import the required libraries can be done in one line\n",
    "\n",
    "import numpy as np #import a library using an alias\n",
    "import matplotlib.pyplot as pp\n",
    "\n",
    "%matplotlib inline\n",
    "\n",
    "from mpl_toolkits.basemap import Basemap\n",
    "\n",
    "import geopy\n"
   ]
  },
  {
   "cell_type": "markdown",
   "metadata": {},
   "source": [
    "Code and data needed from prev lessons"
   ]
  },
  {
   "cell_type": "code",
   "execution_count": null,
   "metadata": {},
   "outputs": [],
   "source": [
    "# lists from a file [ City , Year ] \n",
    "\n",
    "cities, years =[] , []\n",
    "# Fixed for citys with multiple words, better ways to work with a list\n",
    "for game in open('games.txt','r'):\n",
    "    words = game.split() #split the game.txt line into a list of words\n",
    "    \n",
    "    city = ' '.join(words[:-1]) # city joins each item from the words list except the last item. (year)\n",
    "    year = words[-1].strip('()') # words[-1], another way to get last list item, cool python feature\n",
    "    \n",
    "    cities.append(city)\n",
    "    years.append(year)\n",
    "    \n"
   ]
  },
  {
   "cell_type": "markdown",
   "metadata": {},
   "source": [
    "Geolocated olympic city coordinates(From JSON file)"
   ]
  },
  {
   "cell_type": "code",
   "execution_count": null,
   "metadata": {},
   "outputs": [],
   "source": [
    "coordinates_by_city = json.load(open(coords.json',r))\n",
    "                                "
   ]
  },
  {
   "cell_type": "raw",
   "metadata": {},
   "source": []
  }
 ],
 "metadata": {
  "kernelspec": {
   "display_name": "Python 3",
   "language": "python",
   "name": "python3"
  },
  "language_info": {
   "codemirror_mode": {
    "name": "ipython",
    "version": 3
   },
   "file_extension": ".py",
   "mimetype": "text/x-python",
   "name": "python",
   "nbconvert_exporter": "python",
   "pygments_lexer": "ipython3",
   "version": "3.7.6"
  }
 },
 "nbformat": 4,
 "nbformat_minor": 4
}
